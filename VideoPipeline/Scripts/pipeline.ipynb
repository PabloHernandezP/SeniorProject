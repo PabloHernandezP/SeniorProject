{
 "cells": [
  {
   "cell_type": "code",
   "execution_count": null,
   "metadata": {},
   "outputs": [],
   "source": [
    "import model\n",
    "import angle\n",
    "import distance"
   ]
  },
  {
   "cell_type": "code",
   "execution_count": null,
   "metadata": {},
   "outputs": [],
   "source": [
    "# location of config file and novel video\n",
    "config_path = 'C:/Users/14074/OneDrive/Desktop/CIS4914/SeniorProject/VideoPipeline/Horse_Skeleton-M Smythe-2022-05-17/config.yaml'\n",
    "video_path = 'C:/Users/14074/OneDrive/Desktop/CIS4914/SeniorProject/VideoPipeline/InputOutput/C0213.mp4'"
   ]
  },
  {
   "cell_type": "code",
   "execution_count": null,
   "metadata": {},
   "outputs": [],
   "source": [
    "# analyze video at video_path using trained model indicated by config_path \n",
    "model.analyzeNovelVideo(config_path, video_path)"
   ]
  },
  {
   "cell_type": "code",
   "execution_count": null,
   "metadata": {},
   "outputs": [],
   "source": [
    "# extract gait parameters using results"
   ]
  }
 ],
 "metadata": {
  "kernelspec": {
   "display_name": "DEEPLABCUT",
   "language": "python",
   "name": "python3"
  },
  "language_info": {
   "name": "python",
   "version": "3.8.16"
  },
  "orig_nbformat": 4,
  "vscode": {
   "interpreter": {
    "hash": "2e15464af17b5031c2cdd23999a970bf444a5c49f339367d99cc7bc988d2c121"
   }
  }
 },
 "nbformat": 4,
 "nbformat_minor": 2
}
