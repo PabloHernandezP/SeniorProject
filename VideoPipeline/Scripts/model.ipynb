{
 "cells": [
  {
   "cell_type": "code",
   "execution_count": 4,
   "metadata": {},
   "outputs": [
    {
     "name": "stdout",
     "output_type": "stream",
     "text": [
      "Loading DLC 2.3.0...\n"
     ]
    }
   ],
   "source": [
    "import deeplabcut as dlc\n",
    "import pandas as pd"
   ]
  },
  {
   "cell_type": "code",
   "execution_count": 5,
   "metadata": {},
   "outputs": [],
   "source": [
    "def analyzeNovelVideo(config_path, video_path):    \n",
    "    dlc.analyze_videos(config_path, [video_path], )"
   ]
  },
  {
   "cell_type": "code",
   "execution_count": null,
   "metadata": {},
   "outputs": [],
   "source": [
    "# file_path = 'C:/Users/14074/OneDrive/Desktop/dlc output/C0213DLC_resnet50_Horse_SkeletonMay17shuffle1_1030000.h5'\n",
    "# df = pd.read_hdf(file_path)"
   ]
  }
 ],
 "metadata": {
  "kernelspec": {
   "display_name": "DEEPLABCUT",
   "language": "python",
   "name": "python3"
  },
  "language_info": {
   "codemirror_mode": {
    "name": "ipython",
    "version": 3
   },
   "file_extension": ".py",
   "mimetype": "text/x-python",
   "name": "python",
   "nbconvert_exporter": "python",
   "pygments_lexer": "ipython3",
   "version": "3.8.16"
  },
  "orig_nbformat": 4,
  "vscode": {
   "interpreter": {
    "hash": "2e15464af17b5031c2cdd23999a970bf444a5c49f339367d99cc7bc988d2c121"
   }
  }
 },
 "nbformat": 4,
 "nbformat_minor": 2
}
