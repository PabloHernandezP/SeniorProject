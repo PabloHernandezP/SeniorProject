{
 "cells": [
  {
   "cell_type": "code",
   "execution_count": null,
   "metadata": {},
   "outputs": [],
   "source": [
    "import numpy as np"
   ]
  },
  {
   "cell_type": "code",
   "execution_count": null,
   "metadata": {},
   "outputs": [],
   "source": [
    "def angle(x1, y1, x2, y2):\n",
    "    # Find length of segment\n",
    "    SegmentLength = np.sqrt((x2 - x1) ** 2 + (y2 - y1) ** 2)\n",
    "    \n",
    "    # Define Local Coordinates\n",
    "    LocalPSegment = np.array([x2 - x1, y2 - y1])\n",
    "    \n",
    "    # Make Unit Vector for Segment\n",
    "    UnitLocalX = LocalPSegment / np.mean(SegmentLength)\n",
    "    \n",
    "    # Find Local y vector\n",
    "    LocalX = np.hstack((UnitLocalX.reshape(-1, 1), np.zeros((len(UnitLocalX), 1))))\n",
    "    LocalY = np.zeros((len(LocalX), 3))\n",
    "    \n",
    "    for i in range(len(LocalX)):\n",
    "        LocalY[i] = np.cross(np.array([0, 0, 1]), LocalX[i])  # [0, 0, 1] is Local Z\n",
    "    \n",
    "    # Establish Global Vectors\n",
    "    GlobalX = np.array([1, 0, 0])\n",
    "    GlobalY = np.array([0, 1, 0])\n",
    "    \n",
    "    # Create Rotation Matrix\n",
    "    Rotation = np.zeros((len(LocalX), 4))\n",
    "    \n",
    "    for i in range(len(LocalX)):\n",
    "        Rotation[i] = np.array([np.dot(LocalX[i], GlobalX), np.dot(LocalY[i], GlobalX), \n",
    "                               np.dot(LocalX[i], GlobalY), np.dot(LocalY[i], GlobalY)])\n",
    "    \n",
    "    # Create Transformation Matrix\n",
    "    jointangle = np.zeros(len(LocalX))\n",
    "    \n",
    "    for i in range(len(LocalX)):\n",
    "        GlobalTLocal = np.array([[Rotation[i, 0], Rotation[i, 1], x1[i]], \n",
    "                                [Rotation[i, 2], Rotation[i, 3], y1[i]],\n",
    "                                [0, 0, 1]])\n",
    "        LocalPP2 = np.array([x2[i], y2[i], 1])\n",
    "        GlobalPP2 = GlobalTLocal @ LocalPP2.reshape(3, 1)\n",
    "        \n",
    "        # Second Rotation Matrix\n",
    "        SegmentLength2 = np.sqrt((GlobalPP2[0, 0] - x1[i]) ** 2 + (GlobalPP2[1, 0] - y1[i]) ** 2)\n",
    "        LocalPSegment2 = np.array([GlobalPP2[0, 0] - x1[i], GlobalPP2[1, 0] - y1[i]])\n",
    "        UnitLocalX2 = LocalPSegment2 / np.mean(SegmentLength2)\n",
    "        LocalX2 = np.hstack((UnitLocalX2.reshape(-1, 1), np.zeros((len(UnitLocalX2), 1))))\n",
    "        LocalY2 = np.zeros((len(LocalX2), 3))\n",
    "        \n",
    "        for j in range(len(LocalX2)):\n",
    "            LocalY2[j] = np.cross(np.array([0, 0, 1]), LocalX2[j])  # [0, 0, 1] is Local Z\n",
    "        \n",
    "        Rotation2 = np.zeros((len(LocalX2), 4))\n",
    "        \n",
    "        for k in range(len(LocalX2)):\n",
    "            Rotation2[k] = np.array([np.dot(LocalX2[k], GlobalX), np.dot(LocalY2[k], GlobalX), \n",
    "                                     np.dot(LocalX2[k], GlobalY), np.dot(LocalY2[k], GlobalY)])\n",
    "        \n",
    "        # Find Angle\n",
    "        jointangle[i] = np.arctan2(Rotation2[i, 2], Rotation2[i, 3]) - np.arctan"
   ]
  },
  {
   "cell_type": "code",
   "execution_count": null,
   "metadata": {},
   "outputs": [],
   "source": [
    "def display():\n",
    "    return"
   ]
  }
 ],
 "metadata": {
  "kernelspec": {
   "display_name": "DEEPLABCUT",
   "language": "python",
   "name": "python3"
  },
  "language_info": {
   "name": "python",
   "version": "3.8.16"
  },
  "orig_nbformat": 4,
  "vscode": {
   "interpreter": {
    "hash": "2e15464af17b5031c2cdd23999a970bf444a5c49f339367d99cc7bc988d2c121"
   }
  }
 },
 "nbformat": 4,
 "nbformat_minor": 2
}
